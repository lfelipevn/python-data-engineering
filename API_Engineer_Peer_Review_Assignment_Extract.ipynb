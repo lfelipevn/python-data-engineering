{
 "cells": [
  {
   "cell_type": "markdown",
   "metadata": {},
   "source": [
    "<p style=\"text-align:center\">\n",
    "    <a href=\"https://skills.network/?utm_medium=Exinfluencer&utm_source=Exinfluencer&utm_content=000026UJ&utm_term=10006555&utm_id=NA-SkillsNetwork-Channel-SkillsNetworkCoursesIBMDeveloperSkillsNetworkPY0221ENSkillsNetwork899-2023-01-01\">\n",
    "    <img src=\"https://cf-courses-data.s3.us.cloud-object-storage.appdomain.cloud/assets/logos/SN_web_lightmode.png\" width=\"200\" alt=\"Skills Network Logo\"  />\n",
    "    </a>\n",
    "</p>\n"
   ]
  },
  {
   "cell_type": "markdown",
   "metadata": {},
   "source": [
    "# Peer Review Assignment - Data Engineer - Extract API Data\n"
   ]
  },
  {
   "cell_type": "markdown",
   "metadata": {},
   "source": [
    "Estimated time needed: **20** minutes\n"
   ]
  },
  {
   "cell_type": "markdown",
   "metadata": {},
   "source": [
    "## Objectives\n",
    "\n",
    "In this part you will:\n",
    "\n",
    "-   Collect exchange rate data using an API\n",
    "-   Store the data as a CSV\n"
   ]
  },
  {
   "cell_type": "markdown",
   "metadata": {},
   "source": [
    "For this lab, we are going to be using Python and several Python libraries. Some of these libraries might be installed in your lab environment or in SN Labs. Others may need to be installed by you. The cells below will install these libraries when executed.\n"
   ]
  },
  {
   "cell_type": "code",
   "execution_count": 1,
   "metadata": {
    "tags": []
   },
   "outputs": [],
   "source": [
    "#!mamba install pandas==1.3.3 -y\n",
    "#!mamba install requests==2.26.0 -y"
   ]
  },
  {
   "cell_type": "markdown",
   "metadata": {},
   "source": [
    "## Imports\n",
    "\n",
    "Import any additional libraries you may need here.\n"
   ]
  },
  {
   "cell_type": "code",
   "execution_count": 16,
   "metadata": {
    "tags": []
   },
   "outputs": [],
   "source": [
    "import requests\n",
    "import pandas as pd\n",
    "import json"
   ]
  },
  {
   "cell_type": "markdown",
   "metadata": {},
   "source": [
    "## Extract Data Using an API\n"
   ]
  },
  {
   "cell_type": "markdown",
   "metadata": {},
   "source": [
    "Using ExchangeRate-API we will extract currency exchange rate data. Use the below steps to get the access key and to get the data. \n",
    "1. Open the url : https://exchangeratesapi.io/ and click on **Get Free API Key**. \n",
    "2. Subscribe for Free plan and Sign-in with the Google Account. \n",
    "3. Once the account is created you will be redirected to https://apilayer.com website.\n",
    "2. Now, click on the **user icon** and click **Account** as shown below:\n",
    "\n",
    "<img src=\"https://cf-courses-data.s3.us.cloud-object-storage.appdomain.cloud/IBMDeveloperSkillsNetwork-PY0221EN-SkillsNetwork/labs/module%206/Final%20Assignment/Images/account.png\">\n",
    "\n",
    "3. Scroll down and you will get the API Key section. Copy the API key and use in the url in Question 1.\n"
   ]
  },
  {
   "cell_type": "markdown",
   "metadata": {},
   "source": [
    "### Call the API\n",
    "\n",
    " <b> Question 1</b> Using the `requests` library call the endpoint given above and save the text, remember the first few characters of the output: \n"
   ]
  },
  {
   "cell_type": "code",
   "execution_count": 28,
   "metadata": {
    "tags": []
   },
   "outputs": [],
   "source": [
    "# Write your code here\n",
    "url = \"http://api.exchangeratesapi.io/v1/latest?base=EUR&access_key=159714a1faa21dc1965fa675a7347cc0\"  #Make sure to change ******* to your API key.\n",
    "response = requests.get(url)"
   ]
  },
  {
   "cell_type": "code",
   "execution_count": 29,
   "metadata": {
    "tags": []
   },
   "outputs": [
    {
     "data": {
      "text/plain": [
       "'{\"success\":true,\"timestamp\":1696266903,\"base\":\"EUR\",\"date\":\"2023-10-02\",\"rates\":{\"AED\":3.855461,\"AFN\":82.404268,\"ALL\":106.099656,\"AMD\":422.192383,\"ANG\":1.892821,\"AOA\":871.235715,\"ARS\":367.412819,\"AUD\":1.648809,\"AWG\":1.89205,\"AZN\":1.781283,\"BAM\":1.948978,\"BBD\":2.12258,\"BDT\":115.794162,\"BGN\":1.953479,\"BHD\":0.395674,\"BIF\":2987.392276,\"BMD\":1.049681,\"BND\":1.440843,\"BOB\":7.257667,\"BRL\":5.318524,\"BSD\":1.050179,\"BTC\":3.7582953e-5,\"BTN\":87.363725,\"BWP\":14.456264,\"BYN\":3.449358,\"BYR\":20573.748632,\"BZD\":2.11697,\"CAD\":1.435434,\"CDF\":2616.855249,\"CHF\":0.963481,\"CLF\":0.034556,\"CLP\":953.551358,\"CNY\":7.539806,\"COP\":4359.713794,\"CRC\":561.219657,\"CUC\":1.049681,\"CUP\":27.816548,\"CVE\":109.910981,\"CZK\":24.432352,\"DJF\":186.549092,\"DKK\":7.458435,\"DOP\":59.623203,\"DZD\":144.663373,\"EGP\":32.459916,\"ERN\":15.745216,\"ETB\":58.52691,\"EUR\":1,\"FJD\":2.388392,\"FKP\":0.860448,\"GBP\":0.86626,\"GEL\":2.81839,\"GGP\":0.860448,\"GHS\":12.171084,\"GIP\":0.860448,\"GMD\":68.758203,\"GNF\":9079.740776,\"GTQ\":8.254872,\"GYD\":219.724671,\"HKD\":8.221716,\"HNL\":25.901234,\"HRK\":7.363207,\"HTG\":142.310549,\"HUF\":388.599285,\"IDR\":16340.594883,\"ILS\":4.032917,\"IMP\":0.860448,\"INR\":87.350311,\"IQD\":1375.082179,\"IRR\":44349.024259,\"ISK\":146.692394,\"JEP\":0.860448,\"JMD\":162.551061,\"JOD\":0.744638,\"JPY\":157.222333,\"KES\":155.565147,\"KGS\":93.117456,\"KHR\":4333.083124,\"KMF\":489.151138,\"KPW\":944.712947,\"KRW\":1425.94949,\"KWD\":0.324635,\"KYD\":0.875228,\"KZT\":501.151166,\"LAK\":21313.773684,\"LBP\":15781.954705,\"LKR\":340.823849,\"LRD\":195.976311,\"LSL\":19.859735,\"LTL\":3.099435,\"LVL\":0.634941,\"LYD\":5.127672,\"MAD\":10.830084,\"MDL\":19.157131,\"MGA\":4771.345457,\"MKD\":61.505101,\"MMK\":2205.559397,\"MNT\":3633.490848,\"MOP\":8.4735,\"MRO\":374.735955,\"MUR\":46.67695,\"MVR\":16.112091,\"MWK\":1133.655611,\"MXN\":18.494283,\"MYR\":4.928566,\"MZN\":66.392274,\"NAD\":19.859738,\"NGN\":805.357233,\"NIO\":38.425508,\"NOK\":11.382436,\"NPR\":139.78176,\"NZD\":1.764913,\"OMR\":0.404119,\"PAB\":1.050314,\"PEN\":3.975665,\"PGK\":3.850486,\"PHP\":59.596693,\"PKR\":302.045787,\"PLN\":4.616438,\"PYG\":7665.171435,\"QAR\":3.821892,\"RON\":4.974411,\"RSD\":117.269298,\"RUB\":104.337657,\"RWF\":1273.787957,\"SAR\":3.936936,\"SBD\":8.800059,\"SCR\":14.873964,\"SDG\":628.090885,\"SEK\":11.593292,\"SGD\":1.441543,\"SHP\":1.277199,\"SLE\":23.659697,\"SLL\":20731.201074,\"SOS\":597.792423,\"SSP\":631.389038,\"SRD\":40.107314,\"STD\":21726.278492,\"SYP\":13647.801098,\"SZL\":19.859933,\"THB\":38.764348,\"TJS\":11.53711,\"TMT\":3.68438,\"TND\":3.313316,\"TOP\":2.508055,\"TRY\":28.833453,\"TTD\":7.127848,\"TWD\":33.941966,\"TZS\":2634.699658,\"UAH\":38.577011,\"UGX\":3944.026587,\"USD\":1.049681,\"UYU\":40.39937,\"UZS\":12813.518121,\"VEF\":3592049.279485,\"VES\":35.960028,\"VND\":25512.497985,\"VUV\":127.077208,\"WST\":2.910953,\"XAF\":653.662913,\"XAG\":0.049437,\"XAU\":0.000573,\"XCD\":2.836816,\"XDR\":0.798697,\"XOF\":651.325318,\"XPF\":118.98159,\"YER\":262.836585,\"ZAR\":20.155398,\"ZMK\":9448.380214,\"ZMW\":22.081922,\"ZWL\":337.996871}}'"
      ]
     },
     "execution_count": 29,
     "metadata": {},
     "output_type": "execute_result"
    }
   ],
   "source": [
    "response.text"
   ]
  },
  {
   "cell_type": "code",
   "execution_count": 26,
   "metadata": {
    "tags": []
   },
   "outputs": [],
   "source": [
    "# Crear un DataFrame de pandas\n",
    "df = pd.DataFrame.from_dict(json.loads(response.text)['rates'], orient='index', columns=['rate'])\n",
    "\n",
    "# Establecer el nombre del índice\n",
    "df.index.name = 'Currency'"
   ]
  },
  {
   "cell_type": "code",
   "execution_count": 27,
   "metadata": {
    "tags": []
   },
   "outputs": [
    {
     "data": {
      "text/html": [
       "<div>\n",
       "<style scoped>\n",
       "    .dataframe tbody tr th:only-of-type {\n",
       "        vertical-align: middle;\n",
       "    }\n",
       "\n",
       "    .dataframe tbody tr th {\n",
       "        vertical-align: top;\n",
       "    }\n",
       "\n",
       "    .dataframe thead th {\n",
       "        text-align: right;\n",
       "    }\n",
       "</style>\n",
       "<table border=\"1\" class=\"dataframe\">\n",
       "  <thead>\n",
       "    <tr style=\"text-align: right;\">\n",
       "      <th></th>\n",
       "      <th>rate</th>\n",
       "    </tr>\n",
       "    <tr>\n",
       "      <th>Currency</th>\n",
       "      <th></th>\n",
       "    </tr>\n",
       "  </thead>\n",
       "  <tbody>\n",
       "    <tr>\n",
       "      <th>AED</th>\n",
       "      <td>3.854318</td>\n",
       "    </tr>\n",
       "    <tr>\n",
       "      <th>AFN</th>\n",
       "      <td>82.381157</td>\n",
       "    </tr>\n",
       "    <tr>\n",
       "      <th>ALL</th>\n",
       "      <td>106.067962</td>\n",
       "    </tr>\n",
       "    <tr>\n",
       "      <th>AMD</th>\n",
       "      <td>422.066379</td>\n",
       "    </tr>\n",
       "    <tr>\n",
       "      <th>ANG</th>\n",
       "      <td>1.892255</td>\n",
       "    </tr>\n",
       "    <tr>\n",
       "      <th>...</th>\n",
       "      <td>...</td>\n",
       "    </tr>\n",
       "    <tr>\n",
       "      <th>YER</th>\n",
       "      <td>262.760733</td>\n",
       "    </tr>\n",
       "    <tr>\n",
       "      <th>ZAR</th>\n",
       "      <td>20.149168</td>\n",
       "    </tr>\n",
       "    <tr>\n",
       "      <th>ZMK</th>\n",
       "      <td>9445.565052</td>\n",
       "    </tr>\n",
       "    <tr>\n",
       "      <th>ZMW</th>\n",
       "      <td>22.075326</td>\n",
       "    </tr>\n",
       "    <tr>\n",
       "      <th>ZWL</th>\n",
       "      <td>337.895905</td>\n",
       "    </tr>\n",
       "  </tbody>\n",
       "</table>\n",
       "<p>170 rows × 1 columns</p>\n",
       "</div>"
      ],
      "text/plain": [
       "                 rate\n",
       "Currency             \n",
       "AED          3.854318\n",
       "AFN         82.381157\n",
       "ALL        106.067962\n",
       "AMD        422.066379\n",
       "ANG          1.892255\n",
       "...               ...\n",
       "YER        262.760733\n",
       "ZAR         20.149168\n",
       "ZMK       9445.565052\n",
       "ZMW         22.075326\n",
       "ZWL        337.895905\n",
       "\n",
       "[170 rows x 1 columns]"
      ]
     },
     "execution_count": 27,
     "metadata": {},
     "output_type": "execute_result"
    }
   ],
   "source": [
    "df"
   ]
  },
  {
   "cell_type": "markdown",
   "metadata": {},
   "source": [
    "### Save as DataFrame\n",
    "\n",
    " <b> Question 2</b>  Using the data gathered turn it into a `pandas` dataframe. The dataframe should have the Currency as the index and `Rate` as their columns. Make sure to drop unnecessary columns.\n"
   ]
  },
  {
   "cell_type": "code",
   "execution_count": null,
   "metadata": {},
   "outputs": [],
   "source": [
    "# Turn the data into a dataframe\n"
   ]
  },
  {
   "cell_type": "code",
   "execution_count": null,
   "metadata": {},
   "outputs": [],
   "source": [
    "# Drop unnescessary columns\n"
   ]
  },
  {
   "cell_type": "markdown",
   "metadata": {},
   "source": [
    "### Load the Data\n",
    "\n",
    "Using the dataframe save it as a CSV names `exchange_rates_1.csv`.\n"
   ]
  },
  {
   "cell_type": "code",
   "execution_count": null,
   "metadata": {},
   "outputs": [],
   "source": [
    "# Save the Dataframe\n"
   ]
  },
  {
   "cell_type": "markdown",
   "metadata": {},
   "source": [
    "Your CSV should be in this format with more currencies\n",
    "\n",
    "| | Rates |\n",
    "| ------- | ------- |\n",
    "|  AED| 4.398618    |\n",
    "|  AFN| 92.917693   |  \n",
    "|  ALL| 123.099093  |\n",
    "|  AMD| 621.935674  |\n",
    "|  ANG| 2.149648    | \n"
   ]
  },
  {
   "cell_type": "markdown",
   "metadata": {},
   "source": [
    "## Authors\n"
   ]
  },
  {
   "cell_type": "markdown",
   "metadata": {},
   "source": [
    "Ramesh Sannareddy, Joseph Santarcangelo and Azim Hirjani\n"
   ]
  },
  {
   "cell_type": "markdown",
   "metadata": {},
   "source": [
    "### Other Contributors\n"
   ]
  },
  {
   "cell_type": "markdown",
   "metadata": {},
   "source": [
    "Rav Ahuja\n"
   ]
  },
  {
   "cell_type": "markdown",
   "metadata": {},
   "source": [
    "## Change Log\n"
   ]
  },
  {
   "cell_type": "markdown",
   "metadata": {},
   "source": [
    "| Date (YYYY-MM-DD) | Version | Changed By        | Change Description                 |\n",
    "| ----------------- | ------- | ----------------- | ---------------------------------- |\n",
    "| 2022-05-06        | 0.3     | Malika            | Updated instructions to get the API and the url|\n",
    "| 2021-04-15        | 0.2     | Malika            | Updated the lab from USD to EUR    |\n",
    "| 2020-11-25        | 0.1     | Ramesh Sannareddy | Created initial version of the lab |\n"
   ]
  },
  {
   "cell_type": "markdown",
   "metadata": {},
   "source": [
    " Copyright © 2020 IBM Corporation. This notebook and its source code are released under the terms of the [MIT License](https://cognitiveclass.ai/mit-license?utm_medium=Exinfluencer&utm_source=Exinfluencer&utm_content=000026UJ&utm_term=10006555&utm_id=NA-SkillsNetwork-Channel-SkillsNetworkCoursesIBMDeveloperSkillsNetworkPY0221ENSkillsNetwork899-2023-01-01&cm_mmc=Email_Newsletter-_-Developer_Ed%2BTech-_-WW_WW-_-SkillsNetwork-Courses-IBM-DA0321EN-SkillsNetwork-21426264&cm_mmca1=000026UJ&cm_mmca2=10006555&cm_mmca3=M12345678&cvosrc=email.Newsletter.M12345678&cvo_campaign=000026UJ).\n"
   ]
  }
 ],
 "metadata": {
  "kernelspec": {
   "display_name": "Python",
   "language": "python",
   "name": "conda-env-python-py"
  },
  "language_info": {
   "codemirror_mode": {
    "name": "ipython",
    "version": 3
   },
   "file_extension": ".py",
   "mimetype": "text/x-python",
   "name": "python",
   "nbconvert_exporter": "python",
   "pygments_lexer": "ipython3",
   "version": "3.7.12"
  }
 },
 "nbformat": 4,
 "nbformat_minor": 4
}
